{
  "nbformat": 4,
  "nbformat_minor": 0,
  "metadata": {
    "colab": {
      "provenance": []
    },
    "kernelspec": {
      "name": "python3",
      "display_name": "Python 3"
    },
    "language_info": {
      "name": "python"
    }
  },
  "cells": [
    {
      "cell_type": "code",
      "execution_count": null,
      "metadata": {
        "id": "6P6Kq5b8VRZQ"
      },
      "outputs": [],
      "source": [
        "!pip install streamlit langchain PyPDF2 faiss-cpu beautifulsoup4 langchain-groq ngrok huggingface-hub pypdf pyngrok langchain_community sentence_transformers\n"
      ]
    },
    {
      "cell_type": "code",
      "source": [
        "from pyngrok import ngrok\n",
        "# Kill any existing ngrok tunnels (if running)\n",
        "!pkill ngrok\n",
        "ngrok.set_auth_token('2lw7AP0VfcO6LG3jbxVYCIS0eu6_35Dd16cy9qVwMk2asb6nZ')\n",
        "# Start ngrok tunnel to the default Streamlit port 8501\n",
        "public_url = ngrok.connect(8502, \"http\")\n",
        "print('Streamlit app URL:', public_url)"
      ],
      "metadata": {
        "colab": {
          "base_uri": "https://localhost:8080/"
        },
        "id": "AYSl7Ye0V30R",
        "outputId": "1f236662-8cbf-45a4-ea8b-74c935b52dec"
      },
      "execution_count": 2,
      "outputs": [
        {
          "output_type": "stream",
          "name": "stdout",
          "text": [
            "Streamlit app URL: NgrokTunnel: \"https://f202-35-204-209-60.ngrok-free.app\" -> \"http://localhost:8502\"\n"
          ]
        }
      ]
    },
    {
      "cell_type": "code",
      "source": [
        "# Run the Streamlit app\n",
        "\n",
        "!streamlit run app.py --server.port 8502 &>/dev/null&"
      ],
      "metadata": {
        "id": "3bVKnCFwVh5x"
      },
      "execution_count": 4,
      "outputs": []
    }
  ]
}